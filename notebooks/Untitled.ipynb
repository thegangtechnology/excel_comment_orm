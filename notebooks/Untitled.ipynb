{
 "cells": [
  {
   "cell_type": "code",
   "execution_count": 14,
   "metadata": {
    "ExecuteTime": {
     "end_time": "2020-11-06T19:59:34.397730Z",
     "start_time": "2020-11-06T19:59:34.383731Z"
    }
   },
   "outputs": [],
   "source": [
    "import openpyxl as opx"
   ]
  },
  {
   "cell_type": "code",
   "execution_count": 15,
   "metadata": {
    "ExecuteTime": {
     "end_time": "2020-11-06T19:59:34.552026Z",
     "start_time": "2020-11-06T19:59:34.534488Z"
    }
   },
   "outputs": [],
   "source": [
    "wb = opx.load_workbook('../sample/test/date/date_template.xlsx')"
   ]
  },
  {
   "cell_type": "code",
   "execution_count": 16,
   "metadata": {
    "ExecuteTime": {
     "end_time": "2020-11-06T19:59:34.725607Z",
     "start_time": "2020-11-06T19:59:34.718612Z"
    }
   },
   "outputs": [
    {
     "data": {
      "text/plain": "['TestSheet']"
     },
     "execution_count": 16,
     "metadata": {},
     "output_type": "execute_result"
    }
   ],
   "source": [
    "wb.sheetnames"
   ]
  },
  {
   "cell_type": "code",
   "execution_count": 17,
   "outputs": [],
   "source": [
    "cell = wb['TestSheet']['B2']"
   ],
   "metadata": {
    "collapsed": false,
    "pycharm": {
     "name": "#%%\n"
    }
   }
  },
  {
   "cell_type": "code",
   "execution_count": 18,
   "outputs": [
    {
     "data": {
      "text/plain": "datetime.datetime(2021, 3, 2, 0, 0)"
     },
     "execution_count": 18,
     "metadata": {},
     "output_type": "execute_result"
    }
   ],
   "source": [
    "cell.value"
   ],
   "metadata": {
    "collapsed": false,
    "pycharm": {
     "name": "#%%\n"
    }
   }
  },
  {
   "cell_type": "code",
   "execution_count": 4,
   "metadata": {
    "ExecuteTime": {
     "end_time": "2020-11-06T19:59:35.115883Z",
     "start_time": "2020-11-06T19:59:35.102858Z"
    }
   },
   "outputs": [
    {
     "name": "stdout",
     "output_type": "stream",
     "text": [
      "<class 'openpyxl.worksheet.worksheet.Worksheet'>\n",
      "A1\n",
      "jellydonuts:\n",
      "%%begin eco\n",
      "key: simple_int\n",
      "parser: int\n",
      "%%end eco\n",
      "A2\n",
      "A3\n",
      "A4\n",
      "A5\n",
      "jellydonuts:\n",
      "\n",
      "%%begin eco\n",
      "key: first_name\n",
      "type: str\n",
      "param: {token:0}\n",
      "%%end eco\n",
      "%%begin eco\n",
      "key: last_name\n",
      "type: str\n",
      "param: {token:1}\n",
      "%%end eco\n",
      "\n",
      "A6\n",
      "jellydonuts:\n",
      "%%begin eco\n",
      "key: empty\n",
      "parser: str\n",
      "%%end eco\n",
      "<class 'openpyxl.worksheet.worksheet.Worksheet'>\n",
      "A1\n",
      "jellydonuts:\n",
      "%%begin eco\n",
      "key: second_sheet_int\n",
      "parser: int_with_offset\n",
      "param: {offset: 1}\n",
      "validators:\n",
      "  - {name: more_than, threshold: 0} \n",
      "  - {name: less_than, theshold: 0} \n",
      "%%end eco\n",
      "\n",
      "%%begin eco\n",
      "key: str_number\n",
      "parser: str\n",
      "%%end eco\n",
      "\n"
     ]
    }
   ],
   "source": [
    "for sheet_name in wb.sheetnames:\n",
    "    ws = wb[sheet_name]\n",
    "    print(type(ws))\n",
    "    for row in ws.iter_rows():\n",
    "        for cell in row:\n",
    "            print(cell.coordinate)\n",
    "            if cell.comment is not None:\n",
    "                print(cell.comment.text)"
   ]
  },
  {
   "cell_type": "code",
   "execution_count": 5,
   "metadata": {
    "ExecuteTime": {
     "end_time": "2020-11-06T19:59:35.878728Z",
     "start_time": "2020-11-06T19:59:35.870708Z"
    }
   },
   "outputs": [],
   "source": [
    "ws = wb['Sheet1']\n",
    "comment = ws['A1'].comment"
   ]
  },
  {
   "cell_type": "code",
   "execution_count": 6,
   "metadata": {
    "ExecuteTime": {
     "end_time": "2020-11-06T19:59:36.406868Z",
     "start_time": "2020-11-06T19:59:36.397847Z"
    }
   },
   "outputs": [
    {
     "data": {
      "text/plain": "'jellydonuts:\\n%%begin eco\\nkey: simple_int\\nparser: int\\n%%end eco'"
     },
     "execution_count": 6,
     "metadata": {},
     "output_type": "execute_result"
    }
   ],
   "source": [
    "comment.text"
   ]
  },
  {
   "cell_type": "code",
   "execution_count": 7,
   "metadata": {
    "ExecuteTime": {
     "end_time": "2020-11-06T19:59:37.030037Z",
     "start_time": "2020-11-06T19:59:37.023057Z"
    }
   },
   "outputs": [],
   "source": [
    "from typing import List, Dict, Any\n",
    "import logging\n",
    "import yaml\n",
    "from dataclasses import dataclass\n",
    "logging.getLogger().setLevel(logging.DEBUG)\n",
    "\n",
    "@dataclass\n",
    "class ECOBlock:\n",
    "    start_line: int\n",
    "    end_line: int\n",
    "    raw: str\n",
    "    \n",
    "    def parse(cls) -> Any:\n",
    "        return yaml.load(cls.raw)\n",
    "        \n",
    "\n",
    "\n",
    "def parse_eco(lines, start_marker=\"%%begin eco\", end_marker=\"%%end eco\")->List[Dict[str, Any]]:\n",
    "    in_marker = False\n",
    "    current_str = ''\n",
    "    start_line = None\n",
    "    end_line = None\n",
    "    ret = []\n",
    "    for i, line in enumerate(lines.splitlines(keepends=True)):\n",
    "        print(line)\n",
    "        if line.strip() == start_marker:\n",
    "            logging.debug(f'start {i}')\n",
    "            if in_marker:\n",
    "                raise ValueError(f\"Expect end marker before another begin marker at line {i}\")\n",
    "            in_marker = True\n",
    "            start_line = i\n",
    "        elif line.strip() == end_marker:\n",
    "            logging.debug(f'end {i}')\n",
    "            if not in_marker:\n",
    "                raise ValueError(f\"Expect another begin marker at line {i}\")\n",
    "            in_marker = False\n",
    "            end_line = i\n",
    "            ret.append(ECOBlock(\n",
    "                start_line = start_line,\n",
    "                end_line = end_line,\n",
    "                raw = current_str\n",
    "            ))\n",
    "            current_str = ''\n",
    "        elif in_marker:\n",
    "            logging.debug(f'in_marker: {i} {line!r}')\n",
    "            current_str += line\n",
    "    return ret"
   ]
  },
  {
   "cell_type": "code",
   "execution_count": 96,
   "metadata": {
    "ExecuteTime": {
     "end_time": "2020-11-06T19:59:37.809572Z",
     "start_time": "2020-11-06T19:59:37.797572Z"
    }
   },
   "outputs": [
    {
     "name": "stderr",
     "output_type": "stream",
     "text": [
      "DEBUG:root:start 1\n",
      "DEBUG:root:in_marker: 2 'key: simple_int\\n'\n",
      "DEBUG:root:in_marker: 3 'parser: int\\n'\n",
      "DEBUG:root:end 4\n"
     ]
    },
    {
     "name": "stdout",
     "output_type": "stream",
     "text": [
      "jellydonuts:\n",
      "\n",
      "%%begin eco\n",
      "\n",
      "key: simple_int\n",
      "\n",
      "parser: int\n",
      "\n",
      "%%end eco\n"
     ]
    },
    {
     "data": {
      "text/plain": [
       "[ECOBlock(start_line=1, end_line=4, raw='key: simple_int\\nparser: int\\n')]"
      ]
     },
     "execution_count": 96,
     "metadata": {},
     "output_type": "execute_result"
    }
   ],
   "source": [
    "parse_eco(comment.text)"
   ]
  },
  {
   "cell_type": "code",
   "execution_count": 97,
   "metadata": {
    "ExecuteTime": {
     "end_time": "2020-11-06T19:59:38.289758Z",
     "start_time": "2020-11-06T19:59:38.279757Z"
    }
   },
   "outputs": [
    {
     "name": "stderr",
     "output_type": "stream",
     "text": [
      "DEBUG:root:start 2\n",
      "DEBUG:root:in_marker: 3 'key: first_name\\n'\n",
      "DEBUG:root:in_marker: 4 'type: str\\n'\n",
      "DEBUG:root:in_marker: 5 'param: {token:0}\\n'\n",
      "DEBUG:root:end 6\n",
      "DEBUG:root:start 7\n",
      "DEBUG:root:in_marker: 8 'key: last_name\\n'\n",
      "DEBUG:root:in_marker: 9 'type: str\\n'\n",
      "DEBUG:root:in_marker: 10 'param: {token:1}\\n'\n",
      "DEBUG:root:end 11\n"
     ]
    },
    {
     "name": "stdout",
     "output_type": "stream",
     "text": [
      "jellydonuts:\n",
      "\n",
      "\n",
      "\n",
      "%%begin eco\n",
      "\n",
      "key: first_name\n",
      "\n",
      "type: str\n",
      "\n",
      "param: {token:0}\n",
      "\n",
      "%%end eco\n",
      "\n",
      "%%begin eco\n",
      "\n",
      "key: last_name\n",
      "\n",
      "type: str\n",
      "\n",
      "param: {token:1}\n",
      "\n",
      "%%end eco\n",
      "\n"
     ]
    },
    {
     "data": {
      "text/plain": [
       "[ECOBlock(start_line=2, end_line=6, raw='key: first_name\\ntype: str\\nparam: {token:0}\\n'),\n",
       " ECOBlock(start_line=7, end_line=11, raw='key: last_name\\ntype: str\\nparam: {token:1}\\n')]"
      ]
     },
     "execution_count": 97,
     "metadata": {},
     "output_type": "execute_result"
    }
   ],
   "source": [
    "ws = wb['Sheet1']\n",
    "comment = ws['A5'].comment\n",
    "parse_eco(comment.text)"
   ]
  },
  {
   "cell_type": "code",
   "execution_count": 8,
   "metadata": {},
   "outputs": [
    {
     "ename": "BadTemplateException",
     "evalue": "Bad Template at sheet: TestSheet, cell: B10",
     "output_type": "error",
     "traceback": [
      "\u001B[0;31m---------------------------------------------------------------------------\u001B[0m",
      "\u001B[0;31mTooManyBeginException\u001B[0m                     Traceback (most recent call last)",
      "\u001B[0;32m~/playground/excel_comment_orm/src/excel_comment_orm/excel_template.py\u001B[0m in \u001B[0;36mfrom_workbook\u001B[0;34m(cls, workbook)\u001B[0m\n\u001B[1;32m     50\u001B[0m                         \u001B[0;32mtry\u001B[0m\u001B[0;34m:\u001B[0m\u001B[0;34m\u001B[0m\u001B[0;34m\u001B[0m\u001B[0m\n\u001B[0;32m---> 51\u001B[0;31m                             \u001B[0mret\u001B[0m\u001B[0;34m[\u001B[0m\u001B[0mcell_loc\u001B[0m\u001B[0;34m]\u001B[0m \u001B[0;34m=\u001B[0m \u001B[0mECOBlock\u001B[0m\u001B[0;34m.\u001B[0m\u001B[0mfrom_string\u001B[0m\u001B[0;34m(\u001B[0m\u001B[0mcell\u001B[0m\u001B[0;34m.\u001B[0m\u001B[0mcomment\u001B[0m\u001B[0;34m.\u001B[0m\u001B[0mtext\u001B[0m\u001B[0;34m)\u001B[0m\u001B[0;34m\u001B[0m\u001B[0;34m\u001B[0m\u001B[0m\n\u001B[0m\u001B[1;32m     52\u001B[0m                         \u001B[0;32mexcept\u001B[0m \u001B[0mECOException\u001B[0m \u001B[0;32mas\u001B[0m \u001B[0me\u001B[0m\u001B[0;34m:\u001B[0m  \u001B[0;31m# throw error with cell info\u001B[0m\u001B[0;34m\u001B[0m\u001B[0;34m\u001B[0m\u001B[0m\n",
      "\u001B[0;32m~/playground/excel_comment_orm/src/excel_comment_orm/eco_block.py\u001B[0m in \u001B[0;36mfrom_string\u001B[0;34m(cls, comment, start_marker, end_marker)\u001B[0m\n\u001B[1;32m     29\u001B[0m                 \u001B[0;32mif\u001B[0m \u001B[0min_marker\u001B[0m\u001B[0;34m:\u001B[0m\u001B[0;34m\u001B[0m\u001B[0;34m\u001B[0m\u001B[0m\n\u001B[0;32m---> 30\u001B[0;31m                     \u001B[0;32mraise\u001B[0m \u001B[0mexc\u001B[0m\u001B[0;34m.\u001B[0m\u001B[0mTooManyBeginException\u001B[0m\u001B[0;34m(\u001B[0m\u001B[0;34mf\"Expect end marker before another begin marker at line {i}.\"\u001B[0m\u001B[0;34m)\u001B[0m\u001B[0;34m\u001B[0m\u001B[0;34m\u001B[0m\u001B[0m\n\u001B[0m\u001B[1;32m     31\u001B[0m                 \u001B[0min_marker\u001B[0m \u001B[0;34m=\u001B[0m \u001B[0;32mTrue\u001B[0m\u001B[0;34m\u001B[0m\u001B[0;34m\u001B[0m\u001B[0m\n",
      "\u001B[0;31mTooManyBeginException\u001B[0m: Expect end marker before another begin marker at line 3.",
      "\nThe above exception was the direct cause of the following exception:\n",
      "\u001B[0;31mBadTemplateException\u001B[0m                      Traceback (most recent call last)",
      "\u001B[0;32m<ipython-input-8-4bd542472694>\u001B[0m in \u001B[0;36m<module>\u001B[0;34m\u001B[0m\n\u001B[1;32m      1\u001B[0m \u001B[0;32mimport\u001B[0m \u001B[0mexcel_comment_orm\u001B[0m \u001B[0;32mas\u001B[0m \u001B[0meco\u001B[0m\u001B[0;34m\u001B[0m\u001B[0;34m\u001B[0m\u001B[0m\n\u001B[1;32m      2\u001B[0m \u001B[0mbad_fname\u001B[0m \u001B[0;34m=\u001B[0m \u001B[0;34m\"../sample/test/bad_template.xlsx\"\u001B[0m\u001B[0;34m\u001B[0m\u001B[0;34m\u001B[0m\u001B[0m\n\u001B[0;32m----> 3\u001B[0;31m \u001B[0meco\u001B[0m\u001B[0;34m.\u001B[0m\u001B[0mExcelTemplate\u001B[0m\u001B[0;34m.\u001B[0m\u001B[0mfrom_excel\u001B[0m\u001B[0;34m(\u001B[0m\u001B[0mbad_fname\u001B[0m\u001B[0;34m)\u001B[0m\u001B[0;34m\u001B[0m\u001B[0;34m\u001B[0m\u001B[0m\n\u001B[0m\u001B[1;32m      4\u001B[0m \u001B[0;34m\u001B[0m\u001B[0m\n",
      "\u001B[0;32m~/playground/excel_comment_orm/src/excel_comment_orm/excel_template.py\u001B[0m in \u001B[0;36mfrom_excel\u001B[0;34m(cls, fname)\u001B[0m\n\u001B[1;32m     63\u001B[0m     \u001B[0;34m@\u001B[0m\u001B[0mclassmethod\u001B[0m\u001B[0;34m\u001B[0m\u001B[0;34m\u001B[0m\u001B[0m\n\u001B[1;32m     64\u001B[0m     \u001B[0;32mdef\u001B[0m \u001B[0mfrom_excel\u001B[0m\u001B[0;34m(\u001B[0m\u001B[0mcls\u001B[0m\u001B[0;34m,\u001B[0m \u001B[0mfname\u001B[0m\u001B[0;34m:\u001B[0m \u001B[0mstr\u001B[0m\u001B[0;34m)\u001B[0m \u001B[0;34m->\u001B[0m \u001B[0;34m'ExcelTemplate'\u001B[0m\u001B[0;34m:\u001B[0m\u001B[0;34m\u001B[0m\u001B[0;34m\u001B[0m\u001B[0m\n\u001B[0;32m---> 65\u001B[0;31m         \u001B[0;32mreturn\u001B[0m \u001B[0mcls\u001B[0m\u001B[0;34m.\u001B[0m\u001B[0mfrom_workbook\u001B[0m\u001B[0;34m(\u001B[0m\u001B[0mworkbook\u001B[0m\u001B[0;34m=\u001B[0m\u001B[0mopx\u001B[0m\u001B[0;34m.\u001B[0m\u001B[0mload_workbook\u001B[0m\u001B[0;34m(\u001B[0m\u001B[0mfname\u001B[0m\u001B[0;34m)\u001B[0m\u001B[0;34m)\u001B[0m\u001B[0;34m\u001B[0m\u001B[0;34m\u001B[0m\u001B[0m\n\u001B[0m",
      "\u001B[0;32m~/playground/excel_comment_orm/src/excel_comment_orm/excel_template.py\u001B[0m in \u001B[0;36mfrom_workbook\u001B[0;34m(cls, workbook)\u001B[0m\n\u001B[1;32m     52\u001B[0m                         \u001B[0;32mexcept\u001B[0m \u001B[0mECOException\u001B[0m \u001B[0;32mas\u001B[0m \u001B[0me\u001B[0m\u001B[0;34m:\u001B[0m  \u001B[0;31m# throw error with cell info\u001B[0m\u001B[0;34m\u001B[0m\u001B[0;34m\u001B[0m\u001B[0m\n\u001B[1;32m     53\u001B[0m                             raise BadTemplateException(  # Todo: maybe be all these should be warning\n\u001B[0;32m---> 54\u001B[0;31m                                 f'Bad Template at sheet: {cell_loc.sheet_name}, cell: {cell_loc.coordinate}') from e\n\u001B[0m\u001B[1;32m     55\u001B[0m \u001B[0;34m\u001B[0m\u001B[0m\n\u001B[1;32m     56\u001B[0m         \u001B[0met\u001B[0m \u001B[0;34m=\u001B[0m \u001B[0mExcelTemplate\u001B[0m\u001B[0;34m(\u001B[0m\u001B[0mret\u001B[0m\u001B[0;34m)\u001B[0m\u001B[0;34m\u001B[0m\u001B[0;34m\u001B[0m\u001B[0m\n",
      "\u001B[0;31mBadTemplateException\u001B[0m: Bad Template at sheet: TestSheet, cell: B10"
     ]
    }
   ],
   "source": [
    "import excel_comment_orm as eco\n",
    "bad_fname = \"../sample/test/bad_template.xlsx\"\n",
    "eco.ExcelTemplate.from_excel(bad_fname)"
   ]
  },
  {
   "cell_type": "code",
   "execution_count": null,
   "outputs": [],
   "source": [],
   "metadata": {
    "collapsed": false,
    "pycharm": {
     "name": "#%%\n"
    }
   }
  }
 ],
 "metadata": {
  "kernelspec": {
   "display_name": "eco",
   "language": "python",
   "name": "eco"
  },
  "language_info": {
   "codemirror_mode": {
    "name": "ipython",
    "version": 3
   },
   "file_extension": ".py",
   "mimetype": "text/x-python",
   "name": "python",
   "nbconvert_exporter": "python",
   "pygments_lexer": "ipython3",
   "version": "3.8.3"
  },
  "toc": {
   "base_numbering": 1,
   "nav_menu": {},
   "number_sections": true,
   "sideBar": true,
   "skip_h1_title": false,
   "title_cell": "Table of Contents",
   "title_sidebar": "Contents",
   "toc_cell": false,
   "toc_position": {},
   "toc_section_display": true,
   "toc_window_display": true
  }
 },
 "nbformat": 4,
 "nbformat_minor": 4
}