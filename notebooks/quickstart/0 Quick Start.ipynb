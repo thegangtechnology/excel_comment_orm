{
 "cells": [
  {
   "cell_type": "code",
   "execution_count": 7,
   "metadata": {
    "ExecuteTime": {
     "end_time": "2020-11-08T14:59:34.272040Z",
     "start_time": "2020-11-08T14:59:33.883310Z"
    }
   },
   "outputs": [],
   "source": [
    "import exco"
   ]
  },
  {
   "cell_type": "markdown",
   "metadata": {},
   "source": [
    "# Excel Comment ORM.\n",
    "\n",
    "A simple utility allowing you to use excel comment as orm spec."
   ]
  },
  {
   "cell_type": "markdown",
   "metadata": {},
   "source": [
    "# Quick Start\n",
    "\n",
    "## Template\n",
    "<img src=\"template.png\" width=500/>\n",
    "\n",
    "## Data File\n",
    "<img src=\"datafile.png\" widht=200/>"
   ]
  },
  {
   "cell_type": "code",
   "execution_count": 8,
   "metadata": {
    "ExecuteTime": {
     "end_time": "2020-11-08T14:59:34.300439Z",
     "start_time": "2020-11-08T14:59:34.276235Z"
    },
    "pycharm": {
     "name": "#%%\n"
    }
   },
   "outputs": [],
   "source": [
    "processor = exco.from_excel('./quickstart_template.xlsx')"
   ]
  },
  {
   "cell_type": "code",
   "execution_count": 9,
   "metadata": {
    "ExecuteTime": {
     "end_time": "2020-11-08T14:59:34.313193Z",
     "start_time": "2020-11-08T14:59:34.303692Z"
    }
   },
   "outputs": [
    {
     "name": "stdout",
     "output_type": "stream",
     "text": [
      "Location: Sheet1!B3\n",
      "key: \"some_number\"\n",
      "locator: AtCommentCellLocator()\n",
      "parser: IntParser()\n",
      "validators: []\n",
      "assumptions: []\n",
      "####################\n",
      "Location: Sheet1!B4\n",
      "key: \"some_float\"\n",
      "locator: AtCommentCellLocator()\n",
      "parser: FloatParser()\n",
      "validators: []\n",
      "assumptions: []\n",
      "####################\n",
      "Location: Sheet1!B5\n",
      "key: \"some_string\"\n",
      "locator: AtCommentCellLocator()\n",
      "parser: StringParser()\n",
      "validators: []\n",
      "assumptions: []\n",
      "\n"
     ]
    }
   ],
   "source": [
    "print(processor)"
   ]
  },
  {
   "cell_type": "code",
   "execution_count": 10,
   "metadata": {
    "ExecuteTime": {
     "end_time": "2020-11-08T15:01:35.264617Z",
     "start_time": "2020-11-08T15:01:35.215400Z"
    }
   },
   "outputs": [],
   "source": [
    "result = processor.process_excel('./quickstart_data_file.xlsx')"
   ]
  },
  {
   "cell_type": "code",
   "execution_count": 11,
   "metadata": {
    "ExecuteTime": {
     "end_time": "2020-11-08T15:01:53.158084Z",
     "start_time": "2020-11-08T15:01:53.149563Z"
    }
   },
   "outputs": [
    {
     "data": {
      "text/plain": "{'some_number': 2, 'some_float': 3.456, 'some_string': 'World'}"
     },
     "execution_count": 11,
     "metadata": {},
     "output_type": "execute_result"
    }
   ],
   "source": [
    "result.to_dict()"
   ]
  },
  {
   "cell_type": "code",
   "execution_count": null,
   "outputs": [],
   "source": [],
   "metadata": {
    "collapsed": false,
    "pycharm": {
     "name": "#%%\n"
    }
   }
  }
 ],
 "metadata": {
  "hide_input": false,
  "kernelspec": {
   "display_name": "eco",
   "language": "python",
   "name": "eco"
  },
  "language_info": {
   "codemirror_mode": {
    "name": "ipython",
    "version": 3
   },
   "file_extension": ".py",
   "mimetype": "text/x-python",
   "name": "python",
   "nbconvert_exporter": "python",
   "pygments_lexer": "ipython3",
   "version": "3.7.3"
  },
  "toc": {
   "colors": {
    "hover_highlight": "#DAA520",
    "running_highlight": "#FF0000",
    "selected_highlight": "#FFD700"
   },
   "moveMenuLeft": true,
   "nav_menu": {
    "height": "97.05882263183594px",
    "width": "252.35293579101562px"
   },
   "navigate_menu": true,
   "number_sections": false,
   "sideBar": true,
   "threshold": 4,
   "toc_cell": false,
   "toc_section_display": "block",
   "toc_window_display": false
  }
 },
 "nbformat": 4,
 "nbformat_minor": 1
}